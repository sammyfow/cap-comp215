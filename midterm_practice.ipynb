{
  "cells": [
    {
      "cell_type": "markdown",
      "metadata": {
        "id": "view-in-github",
        "colab_type": "text"
      },
      "source": [
        "<a href=\"https://colab.research.google.com/github/sammyfow/cap-comp215/blob/2024.01/midterm_practice.ipynb\" target=\"_parent\"><img src=\"https://colab.research.google.com/assets/colab-badge.svg\" alt=\"Open In Colab\"/></a>"
      ]
    },
    {
      "cell_type": "markdown",
      "source": [
        "# COMP215 Mid-term Practice Questions   Spring 2024\n",
        "\n",
        "Some additional practice questions for the mid-term exam.\n",
        "\n",
        "NOTE: these questions are similar in format to the mid-term exam, but the questions on the exam will not be exactly like these and may cover topics not covered by these practice questions.  I.e., this is not the only thing you need to study!"
      ],
      "metadata": {
        "collapsed": false,
        "id": "1M236oZPEsXp"
      }
    },
    {
      "cell_type": "markdown",
      "source": [
        "### Topics:\n",
        " - Data structures:  list, dictionary, class, graph, 1D array\n",
        " - Algorithms: graph traversal, matrix operators (numpy), sliding dot-product (correlation)\n",
        " - Techniques: list comprehension, generators, random numbers, plotting\n",
        " - Concepts: Counting, Big-O analysis of algorithm time complexity\n",
        "\n",
        "As usual, we start with module imports..."
      ],
      "metadata": {
        "collapsed": false,
        "id": "GR1y8m7LEsX0"
      }
    },
    {
      "cell_type": "code",
      "execution_count": 2,
      "metadata": {
        "collapsed": true,
        "ExecuteTime": {
          "end_time": "2024-03-05T04:21:01.253592Z",
          "start_time": "2024-03-05T04:21:00.282308Z"
        },
        "id": "oiq2v7v1EsX2"
      },
      "outputs": [],
      "source": [
        "import itertools\n",
        "from dataclasses import dataclass\n",
        "import matplotlib.pyplot as plt\n",
        "import networkx as nx\n",
        "import numpy as np\n",
        "import random\n",
        "from collections import defaultdict"
      ]
    },
    {
      "cell_type": "markdown",
      "source": [
        "## Structured Data\n",
        "The `close_approaches` data below was fetched from Nasa's [Near Earth Objects](https://cneos.jpl.nasa.gov/)\n",
        "API.\n",
        "\n",
        "It is a (partial) list of information about times that a particular NEO has made a close approach to some planet."
      ],
      "metadata": {
        "collapsed": false,
        "id": "NLSqa8XdEsX5"
      }
    },
    {
      "cell_type": "code",
      "execution_count": 3,
      "outputs": [],
      "source": [
        "close_approaches = [\n",
        " {'close_approach_date': '1900-10-30',\n",
        "  'close_approach_date_full': '1900-Oct-30 21:15',\n",
        "  'epoch_date_close_approach': -2182819500000,\n",
        "  'miss_distance': {'astronomical': '0.4183489295',\n",
        "                    'kilometers': '62584108.769980165',\n",
        "                    'lunar': '162.7377335755',\n",
        "                    'miles': '38887961.930909677'},\n",
        "  'orbiting_body': 'Earth',\n",
        "  'relative_velocity': {'kilometers_per_hour': '30027.9641223136',\n",
        "                        'kilometers_per_second': '8.3411011451',\n",
        "                        'miles_per_hour': '18658.2091514453'}\n",
        " },\n",
        " {'close_approach_date': '1901-06-26',\n",
        "  'close_approach_date_full': '1901-Jun-26 20:27',\n",
        "  'epoch_date_close_approach': -2162172780000,\n",
        "  'miss_distance': {'astronomical': '0.0308795665',\n",
        "                    'kilometers': '4619517.374923355',\n",
        "                    'lunar': '12.0121513685',\n",
        "                    'miles': '2870434.992938099'},\n",
        "  'orbiting_body': 'Earth',\n",
        "  'relative_velocity': {'kilometers_per_hour': '33429.0066078308',\n",
        "                        'kilometers_per_second': '9.2858351688',\n",
        "                        'miles_per_hour': '20771.4846891824'}\n",
        " },\n",
        " {'close_approach_date': '1907-01-08',\n",
        "  'close_approach_date_full': '1907-Jan-08 04:37',\n",
        "  'epoch_date_close_approach': -1987528980000,\n",
        "  'miss_distance': {'astronomical': '0.1240285628',\n",
        "                    'kilometers': '18554408.814041236',\n",
        "                    'lunar': '48.2471109292',\n",
        "                    'miles': '11529175.0220956168'},\n",
        "  'orbiting_body': 'Venus',\n",
        "  'relative_velocity': {'kilometers_per_hour': '24041.8395567329',\n",
        "                        'kilometers_per_second': '6.6782887658',\n",
        "                        'miles_per_hour': '14938.6641401266'}\n",
        " },\n",
        " {'close_approach_date': '1907-09-06',\n",
        "  'close_approach_date_full': '1907-Sep-06 10:51',\n",
        "  'epoch_date_close_approach': -1966684140000,\n",
        "  'miss_distance': {'astronomical': '0.4147265741',\n",
        "                    'kilometers': '62042212.117757167',\n",
        "                    'lunar': '161.3286373249',\n",
        "                    'miles': '38551242.9650842246'},\n",
        "  'orbiting_body': 'Earth',\n",
        "  'relative_velocity': {'kilometers_per_hour': '26520.1894310292',\n",
        "                        'kilometers_per_second': '7.3667192864',\n",
        "                        'miles_per_hour': '16478.6143717415'}\n",
        " },\n",
        " {'close_approach_date': '1909-08-06',\n",
        "  'close_approach_date_full': '1909-Aug-06 06:41',\n",
        "  'epoch_date_close_approach': -1906219140000,\n",
        "  'miss_distance': {'astronomical': '0.1317215629',\n",
        "                    'kilometers': '19705265.242911023',\n",
        "                    'lunar': '51.2396879681',\n",
        "                    'miles': '12244284.0469491974'},\n",
        "  'orbiting_body': 'Venus',\n",
        "  'relative_velocity': {'kilometers_per_hour': '7812.3369916648',\n",
        "                        'kilometers_per_second': '2.1700936088',\n",
        "                        'miles_per_hour': '4854.2823935153'}\n",
        " },\n",
        "]"
      ],
      "metadata": {
        "pycharm": {
          "name": "#%%\n"
        },
        "ExecuteTime": {
          "end_time": "2024-03-05T04:21:01.270474Z",
          "start_time": "2024-03-05T04:21:01.252973Z"
        },
        "id": "vDHohZLkEsX6"
      }
    },
    {
      "cell_type": "markdown",
      "source": [
        "### Q.1  (2 points)\n",
        "Use a **list comprehension** to define a list of close approach dates that came within 10M km of the planet.\n",
        "*Hint*: there is just 1 such approach in the list above."
      ],
      "metadata": {
        "collapsed": false,
        "id": "C8DLH0aOEsX7"
      }
    },
    {
      "cell_type": "code",
      "execution_count": 4,
      "outputs": [
        {
          "output_type": "stream",
          "name": "stdout",
          "text": [
            "['1901-06-26']\n"
          ]
        }
      ],
      "source": [
        "# Solution for Q.1 here\n",
        "Near_Miss_Dates = [date['close_approach_date'] for date in close_approaches\n",
        "                   if float(date['miss_distance']['kilometers']) < 10**7]\n",
        "print(Near_Miss_Dates)"
      ],
      "metadata": {
        "pycharm": {
          "name": "#%%\n"
        },
        "ExecuteTime": {
          "end_time": "2024-03-05T04:21:52.094985Z",
          "start_time": "2024-03-05T04:21:52.088064Z"
        },
        "colab": {
          "base_uri": "https://localhost:8080/"
        },
        "id": "HKRakN5OEsX8",
        "outputId": "9117a699-5ef5-4a96-e4a5-b658930a5b02"
      }
    },
    {
      "cell_type": "markdown",
      "source": [
        "### Q.2  (3 points)\n",
        "Develop a `dict` with a count of the number of close approaches for each `orbiting_body`.\n",
        "There are *many* different ways to approach this - for full points solution should be concise and easy to understand.\n",
        "\n",
        "*Tip*: the built-in [defaultdict(int)](https://docs.python.org/3/library/collections.html#collections.defaultdict) could help here."
      ],
      "metadata": {
        "collapsed": false,
        "id": "IAVmfve4EsX_"
      }
    },
    {
      "cell_type": "code",
      "execution_count": 13,
      "outputs": [
        {
          "output_type": "stream",
          "name": "stdout",
          "text": [
            "{'Earth': 3, 'Venus': 2}\n"
          ]
        }
      ],
      "source": [
        "# Solution  for Q.2 here\n",
        "s = [orb['orbiting_body'] for orb in close_approaches]\n",
        "d = defaultdict(int)\n",
        "for k in s:\n",
        "  d[k] += 1\n",
        "print(dict(d))"
      ],
      "metadata": {
        "pycharm": {
          "name": "#%%\n"
        },
        "ExecuteTime": {
          "end_time": "2024-03-05T04:21:01.314020Z",
          "start_time": "2024-03-05T04:21:01.274409Z"
        },
        "colab": {
          "base_uri": "https://localhost:8080/"
        },
        "id": "txPrGqhzEsYA",
        "outputId": "8f0fd1c1-1ea9-4774-fb10-e74497182c11"
      }
    },
    {
      "cell_type": "markdown",
      "source": [
        "### Q.3  (3 points)\n",
        "Plot your approaches-by-planet data as a [matplotlib.pyplot.bar](https://matplotlib.org/stable/api/_as_gen/matplotlib.pyplot.bar.html) chart.\n",
        "(no need to label axes or add a chart title)\n",
        "*Hint*:  your dictionary has `.keys()` and  `.values()`."
      ],
      "metadata": {
        "collapsed": false,
        "pycharm": {
          "name": "#%% md\n"
        },
        "id": "-4XVy4xGEsYC"
      }
    },
    {
      "cell_type": "code",
      "execution_count": 6,
      "outputs": [
        {
          "output_type": "execute_result",
          "data": {
            "text/plain": [
              "<BarContainer object of 2 artists>"
            ]
          },
          "metadata": {},
          "execution_count": 6
        },
        {
          "output_type": "display_data",
          "data": {
            "text/plain": [
              "<Figure size 640x480 with 1 Axes>"
            ],
            "image/png": "[encoded data removed]"
          },
          "metadata": {}
        }
      ],
      "source": [
        "# Solution for Q.3 here\n",
        "plt.bar(d.keys(), d.values())"
      ],
      "metadata": {
        "pycharm": {
          "name": "#%%\n"
        },
        "ExecuteTime": {
          "end_time": "2024-03-05T04:21:01.314281Z",
          "start_time": "2024-03-05T04:21:01.277500Z"
        },
        "colab": {
          "base_uri": "https://localhost:8080/",
          "height": 447
        },
        "id": "cnuylPf1EsYD",
        "outputId": "fc58713d-0dd2-441f-d34e-faf264236946"
      }
    },
    {
      "cell_type": "markdown",
      "source": [
        "## Classes\n",
        "Develop a small class to represent a single `CloseApproach` object, with its date, orbiting body, and miss distance in km.\n",
        "You may use `@dataclass` or a regular class, as you wish.\n",
        "\n",
        "Your class should define at least 2 methods:\n",
        "```\n",
        "  def __str__(self) : return a nicely formatted string with the approach date and orbiting body\n",
        "\n",
        "  def has_same_planet(self, other) : return True iff this approach and the other were for the same `orbiting_body`\n",
        "```\n",
        "\n",
        "### Q.4   (5 points)\n",
        "Write your class below and include some code to test it and both its methods."
      ],
      "metadata": {
        "collapsed": false,
        "id": "S28EG2wWEsYD"
      }
    },
    {
      "cell_type": "code",
      "execution_count": 7,
      "outputs": [
        {
          "output_type": "stream",
          "name": "stdout",
          "text": [
            "True\n",
            "False\n"
          ]
        }
      ],
      "source": [
        "# Solution for Q. 4 here\n",
        "class CloseApproach:\n",
        "\n",
        "  def __init__(self, date, orb, misskm):\n",
        "    self.date = date\n",
        "    self.orb = orb\n",
        "    self.misskm = misskm\n",
        "\n",
        "  def __str__(self):\n",
        "    nl = '\\n'\n",
        "    return f'approach date: {self.date}{nl}orbiting body: {self.orb}'\n",
        "\n",
        "  def has_same_planet(self, other):\n",
        "    return self.orb == other.orb\n",
        "\n",
        "test = CloseApproach('03/06/2024', 'Earth', 10000)\n",
        "test1 = CloseApproach('03/06/2024', 'Earth', 300)\n",
        "test2 = CloseApproach('03/06/2024', 'Krypton', 300)\n",
        "\n",
        "print(test.has_same_planet(test1))\n",
        "print(test.has_same_planet(test2))"
      ],
      "metadata": {
        "pycharm": {
          "name": "#%%\n"
        },
        "ExecuteTime": {
          "end_time": "2024-03-05T04:21:01.314510Z",
          "start_time": "2024-03-05T04:21:01.279371Z"
        },
        "colab": {
          "base_uri": "https://localhost:8080/"
        },
        "id": "0dja_LqwEsYE",
        "outputId": "5aef0efc-2e2d-482e-df82-75bb5a206319"
      }
    },
    {
      "cell_type": "markdown",
      "source": [
        "## 1D Sliding Dot-product (correlation)\n",
        "The array below represents the size (in sq. m) of each house along a given street.\n",
        "In the questions below, we are trying to understand how each house compares to its next-door neighbours."
      ],
      "metadata": {
        "collapsed": false,
        "id": "aQLJEKzWEsYE"
      }
    },
    {
      "cell_type": "code",
      "execution_count": 8,
      "outputs": [],
      "source": [
        "house_sizes = np.array( [251, 110, 92, 189, 215, 142, 126, 268, 243, 194] )\n",
        "wrapped_sizes = np.pad(house_sizes, 1, mode='wrap')"
      ],
      "metadata": {
        "pycharm": {
          "name": "#%%\n"
        },
        "ExecuteTime": {
          "end_time": "2024-03-05T04:21:01.314755Z",
          "start_time": "2024-03-05T04:21:01.281584Z"
        },
        "id": "doToWgckEsYE"
      }
    },
    {
      "cell_type": "markdown",
      "source": [
        "### Q.5  (3 points)\n",
        "Compute the average size of each house's 2 next-door neighbours using `np.correlate` [https://numpy.org/doc/stable/reference/generated/numpy.correlate.html](https://numpy.org/doc/stable/reference/generated/numpy.correlate.html)\n",
        "To avoid edge effects, we assume the last house is next-door to first house (a circular block)\n",
        "  `wrapped_sizes` shows how to use `numpy.pad` to do this [https://numpy.org/devdocs/reference/generated/numpy.pad.html](https://numpy.org/devdocs/reference/generated/numpy.pad.html)"
      ],
      "metadata": {
        "collapsed": false,
        "id": "OdMCimNpEsYF"
      }
    },
    {
      "cell_type": "code",
      "execution_count": 9,
      "outputs": [
        {
          "output_type": "stream",
          "name": "stdout",
          "text": [
            "[152.  171.5 149.5 153.5 165.5 170.5 205.  184.5 231.  247. ]\n"
          ]
        }
      ],
      "source": [
        "# Solution for Q.5 here\n",
        "kernel = np.array([1, 0, 1])\n",
        "neighbours = np.correlate(wrapped_sizes, kernel) / 2\n",
        "print(neighbours)"
      ],
      "metadata": {
        "pycharm": {
          "name": "#%%\n"
        },
        "ExecuteTime": {
          "end_time": "2024-03-05T04:21:01.314991Z",
          "start_time": "2024-03-05T04:21:01.283359Z"
        },
        "colab": {
          "base_uri": "https://localhost:8080/"
        },
        "id": "wQAkjYErEsYF",
        "outputId": "3250fad3-92f1-4a88-e122-d5efd433b061"
      }
    },
    {
      "cell_type": "markdown",
      "source": [
        "### Q.6  (2 points)\n",
        "Compute the \"variance\" (difference) between each house's size and the average of it's neighbours.\n",
        "For full points, you must do this using a vector operation rather than a loop or comprehension.\n",
        "*Hint*: As a check on your work, the sum of all variances should be zero."
      ],
      "metadata": {
        "collapsed": false,
        "id": "IWKf2zjpEsYF"
      }
    },
    {
      "cell_type": "code",
      "execution_count": 10,
      "outputs": [
        {
          "output_type": "stream",
          "name": "stdout",
          "text": [
            "[ 99.  -61.5 -57.5  35.5  49.5 -28.5 -79.   83.5  12.  -53. ]\n",
            "0.0\n"
          ]
        }
      ],
      "source": [
        "# Solution for Q.6 here\n",
        "variance = house_sizes - neighbours\n",
        "print(variance)\n",
        "print(sum(variance))"
      ],
      "metadata": {
        "pycharm": {
          "name": "#%%\n"
        },
        "ExecuteTime": {
          "end_time": "2024-03-05T04:21:01.315220Z",
          "start_time": "2024-03-05T04:21:01.285273Z"
        },
        "colab": {
          "base_uri": "https://localhost:8080/"
        },
        "id": "MPb2zYOMEsYG",
        "outputId": "0d37d4e0-72e9-49a8-99e9-1cdbccc0b28d"
      }
    },
    {
      "cell_type": "markdown",
      "source": [
        "## Graph Connectivity\n",
        "Assume you have been tasked with writing an algorithm to determine if an undirected graph is connected:\n",
        "```\n",
        "   def is_connected(graph)\n",
        "```\n",
        "with this in mind, answer the following questions (*you need not actually write this function, its just for context*)..."
      ],
      "metadata": {
        "collapsed": false,
        "id": "BzeYVef8EsYG"
      }
    },
    {
      "cell_type": "markdown",
      "source": [
        "### Q.7  (2 points)\n",
        " i) What is the smallest number of edges a connected undirected graph with $N$ nodes could have?\n",
        " ii) What is the largest number of edges a simple undirected graph with $N$ nodes could have? (no edges from a node to itself)"
      ],
      "metadata": {
        "collapsed": false,
        "id": "5-GIeinXEsYG"
      }
    },
    {
      "cell_type": "markdown",
      "source": [
        "Q.7 answer: a connected undirected graph with N nodes could have as few as N edges.\n",
        "\n",
        "a connected undirected graph with N nodes could have as many as N(N-1)/2 edges"
      ],
      "metadata": {
        "collapsed": false,
        "pycharm": {
          "name": "#%% md\n"
        },
        "id": "UtBarWyPEsYG"
      }
    },
    {
      "cell_type": "markdown",
      "source": [
        "### Q.8  (2 points)\n",
        "\n",
        "Give an undirected graph with $N$ nodes and $M$ edges...\n",
        "(i) what is the best-case time complexity for the `is_connected` algorithm?\n",
        "(ii) what is the worst-case time complexity of the `is_connected` algorithm?\n",
        "\n",
        "Choices:\n",
        " * $O(N)$\n",
        " * $O(M)$\n",
        " * $O(N + M)$\n",
        " * $O(N * M)$\n",
        " * $O(N^2)$\n",
        " * $O(2^N)$"
      ],
      "metadata": {
        "collapsed": false,
        "pycharm": {
          "name": "#%% md\n"
        },
        "id": "u9v4G9npEsYH"
      }
    },
    {
      "cell_type": "markdown",
      "source": [
        "Q.8 answer:"
      ],
      "metadata": {
        "collapsed": false,
        "pycharm": {
          "name": "#%% md\n"
        },
        "id": "o4gsh-T2EsYH"
      }
    },
    {
      "cell_type": "markdown",
      "source": [
        "## Iterable types\n",
        "\n",
        "The code fragment below defines a list, a tuple and a generator, all containing the same sequence of values..."
      ],
      "metadata": {
        "collapsed": false,
        "pycharm": {
          "name": "#%% md\n"
        },
        "id": "b1O1zfxTEsYH"
      }
    },
    {
      "cell_type": "code",
      "execution_count": 11,
      "outputs": [
        {
          "output_type": "execute_result",
          "data": {
            "text/plain": [
              "(list, tuple, generator)"
            ]
          },
          "metadata": {},
          "execution_count": 11
        }
      ],
      "source": [
        "l = [(i-1, i, i+1) for i in range(10)]\n",
        "t = tuple((i-1, i, i+1) for i in range(10))\n",
        "g = ((i-1, i, i+1) for i in range(10))\n",
        "\n",
        "type(l), type(t), type(g)"
      ],
      "metadata": {
        "pycharm": {
          "name": "#%%\n"
        },
        "ExecuteTime": {
          "end_time": "2024-03-05T04:21:01.315700Z",
          "start_time": "2024-03-05T04:21:01.288710Z"
        },
        "colab": {
          "base_uri": "https://localhost:8080/"
        },
        "id": "48qiKKM3EsYH",
        "outputId": "b7f6858e-72d5-4fd7-e4d3-db9e2672cc71"
      }
    },
    {
      "cell_type": "markdown",
      "source": [
        "### Q.9   (3 points)\n",
        "Write a small piece of code that clearly demonstrates the principle difference(s) between these 3 iterable objects."
      ],
      "metadata": {
        "collapsed": false,
        "pycharm": {
          "name": "#%% md\n"
        },
        "id": "QEZ580uMEsYI"
      }
    },
    {
      "cell_type": "code",
      "execution_count": 12,
      "outputs": [
        {
          "output_type": "stream",
          "name": "stdout",
          "text": [
            "[(-1, 0, 1), (0, 1, 2), (1, 2, 3), (2, 3, 4), (3, 4, 5), (4, 5, 6), (5, 6, 7), (6, 7, 8), (7, 8, 9), (8, 9, 10)]\n",
            "['l', 'i', 's', 't', 's', ' ', 'a', 'r', 'e', ' ', 'm', 'u', 't', 'a', 'b', 'l', 'e']\n",
            "((-1, 0, 1), (0, 1, 2), (1, 2, 3), (2, 3, 4), (3, 4, 5), (4, 5, 6), (5, 6, 7), (6, 7, 8), (7, 8, 9), (8, 9, 10))\n",
            "(-1, 0, 1)\n",
            "(0, 1, 2)\n",
            "[(1, 2, 3), (2, 3, 4), (3, 4, 5), (4, 5, 6), (5, 6, 7), (6, 7, 8), (7, 8, 9), (8, 9, 10)]\n"
          ]
        }
      ],
      "source": [
        "# Solution for Q.9 here\n",
        "print(l)\n",
        "l[0:] = 'lists are mutable'\n",
        "print(l)\n",
        "\n",
        "print(t)\n",
        "#t[0] = tuples are immutable so this raises an error\n",
        "\n",
        "print(next(g))\n",
        "print(next(g))\n",
        "print(list(g))\n",
        "\n"
      ],
      "metadata": {
        "pycharm": {
          "name": "#%%\n"
        },
        "ExecuteTime": {
          "end_time": "2024-03-05T04:21:01.315931Z",
          "start_time": "2024-03-05T04:21:01.291242Z"
        },
        "colab": {
          "base_uri": "https://localhost:8080/"
        },
        "id": "WUtlSQCkEsYI",
        "outputId": "95a5c6ba-4f93-4d64-daa3-3a92bf550b82"
      }
    }
  ],
  "metadata": {
    "kernelspec": {
      "display_name": "Python 3",
      "language": "python",
      "name": "python3"
    },
    "language_info": {
      "codemirror_mode": {
        "name": "ipython",
        "version": 2
      },
      "file_extension": ".py",
      "mimetype": "text/x-python",
      "name": "python",
      "nbconvert_exporter": "python",
      "pygments_lexer": "ipython2",
      "version": "2.7.6"
    },
    "colab": {
      "provenance": [],
      "include_colab_link": true
    }
  },
  "nbformat": 4,
  "nbformat_minor": 0
}