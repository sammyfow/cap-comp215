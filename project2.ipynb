{
  "nbformat": 4,
  "nbformat_minor": 0,
  "metadata": {
    "colab": {
      "provenance": [],
      "authorship_tag": "ABX9TyM+yEexzU3tA8c7x2aAq6L1",
      "include_colab_link": true
    },
    "kernelspec": {
      "name": "python3",
      "display_name": "Python 3"
    },
    "language_info": {
      "name": "python"
    }
  },
  "cells": [
    {
      "cell_type": "markdown",
      "metadata": {
        "id": "view-in-github",
        "colab_type": "text"
      },
      "source": [
        "<a href=\"https://colab.research.google.com/github/sammyfow/cap-comp215/blob/2024.01/project2.ipynb\" target=\"_parent\"><img src=\"https://colab.research.google.com/assets/colab-badge.svg\" alt=\"Open In Colab\"/></a>"
      ]
    },
    {
      "cell_type": "markdown",
      "source": [
        "Langton's Ant\n",
        "--------------------------------------------------------------------------------\n",
        "###Sam Fowler\n",
        "04/05/2024 to\n"
      ],
      "metadata": {
        "id": "2HjLLfWYij3E"
      }
    },
    {
      "cell_type": "markdown",
      "source": [
        "Modules"
      ],
      "metadata": {
        "id": "rHYEs-EDT7zB"
      }
    },
    {
      "cell_type": "code",
      "execution_count": 2,
      "metadata": {
        "id": "Oo4EYjOcTd2w"
      },
      "outputs": [],
      "source": [
        "import time\n",
        "import matplotlib\n",
        "import matplotlib.pyplot as plt\n",
        "from matplotlib import animation\n",
        "import numpy as np\n",
        "from timeit import timeit\n",
        "%matplotlib inline\n",
        "# Configure matplotlib's animation library to work in the browser.\n",
        "matplotlib.rc('animation', html='jshtml')"
      ]
    },
    {
      "cell_type": "markdown",
      "source": [
        "Useful function for visualizing a 2D array, as well as the Animation2D class to easily view sequential steps as an animation."
      ],
      "metadata": {
        "id": "W5_DVGMkUAm4"
      }
    },
    {
      "cell_type": "code",
      "source": [
        "def plot_2D_array(array, axes=None, title='', cmap='Blues', **options):\n",
        "  axes = axes or plt.gca()\n",
        "  axes.set_title(title)\n",
        "  axes.tick_params(axis='both', which='both', bottom=False, top=False, left=False, right=False,\n",
        "                   labelbottom=False, labeltop=False, labelleft=False, labelright=False,)\n",
        "  options = {**dict(interpolation='nearest', origin='upper'), **options}\n",
        "  axes.imshow(array, cmap=cmap, **options)"
      ],
      "metadata": {
        "id": "yYqZaUkSUBGt"
      },
      "execution_count": 3,
      "outputs": []
    },
    {
      "cell_type": "code",
      "source": [
        "class Animation2D:\n",
        "    \"\"\"\n",
        "      Animates any 2D model with a step() method and a draw() method, using matplotlib\n",
        "      model.step() should take no parameters - just step the model forward one step.\n",
        "      model.draw() should take 2 parameters, the matpltolib axes to draw on and an integer step number\n",
        "    \"\"\"\n",
        "\n",
        "    def __init__(self, model, frames=50, steps_per_frame=1, figsize=(8, 8)):\n",
        "        \"\"\"\n",
        "        :param model: the simulation object to animate, with step() and draw(axes, step) methods\n",
        "        :param frames: number of animation frames to generate\n",
        "        \"\"\"\n",
        "        self.model = model\n",
        "        self.frames = frames\n",
        "        self.steps_per_frame = steps_per_frame\n",
        "        self.fig, self.ax = plt.subplots(figsize=figsize)\n",
        "\n",
        "    def animation_step(self, step):\n",
        "        \"\"\" Step the model forward and draw the plot \"\"\"\n",
        "        if step > 0:\n",
        "          for _ in range(self.steps_per_frame):\n",
        "            self.model.step()\n",
        "        self.model.draw(self.ax, step=step)\n",
        "\n",
        "    def show(self):\n",
        "        \"\"\" return the matplotlib animation object, ready for display \"\"\"\n",
        "        anim = animation.FuncAnimation(self.fig, self.animation_step, frames=self.frames)\n",
        "        plt.close()  # this ensures the last frame is not shown as a separate plot\n",
        "        return anim\n",
        "\n",
        "    def animate(self, interval=None):\n",
        "        \"\"\" Animate the model simulation directly in the notebook display block \"\"\"\n",
        "        from IPython.display import clear_output\n",
        "        try:\n",
        "            for i in range(self.frames):\n",
        "                clear_output(wait=True)  # clear the IPython display\n",
        "                self.ax.clear()          # clear old image from the axes (fixes a performance issue)\n",
        "                plt.figure(self.fig)     # add the figure back to pyplot ** sigh **\n",
        "                self.animation_step(i)\n",
        "                plt.show()               # show the current animation frame (pyplot then closes and throws away figure ** sigh **)\n",
        "                if interval:\n",
        "                    time.sleep(interval)\n",
        "        except KeyboardInterrupt:\n",
        "            pass"
      ],
      "metadata": {
        "id": "iceBL0H84KEA"
      },
      "execution_count": 4,
      "outputs": []
    },
    {
      "cell_type": "markdown",
      "source": [
        "A single object that replicates Langton's ant."
      ],
      "metadata": {
        "id": "Ho0Xg1ZJWrYX"
      }
    },
    {
      "cell_type": "code",
      "source": [
        "class grid:\n",
        "  def __init__(self, size):\n",
        "    self.size = size\n",
        "    self.state = np.zeros((size, size), dtype=np.uint8)\n",
        "\n",
        "\n",
        "\n",
        "class Ant:\n",
        "  \"\"\"\n",
        "  an ant that moves around a 2D array changing ones to zeros and zeros to ones\n",
        "  \"\"\"\n",
        "  def __init__(self, y, x, direction, grid):\n",
        "    self.direction = direction  #up=0, down=2, right=1, left=3\n",
        "    self.grid = grid\n",
        "    self.x = x % self.grid.size\n",
        "    self.y = y % self.grid.size\n",
        "\n",
        "  def turn(self):\n",
        "    if self.grid.state[self.y, self.x] == 1:\n",
        "      self.direction = (self.direction + 1) % 4\n",
        "    elif self.grid.state[self.y, self.x] == 0:\n",
        "      self.direction = (self.direction - 1) % 4\n",
        "\n",
        "  def move_forward(self):\n",
        "    if self.direction == 0:\n",
        "      self.y = (self.y - 1) % self.grid.size\n",
        "    elif self.direction == 1:\n",
        "      self.x = (self.x + 1) % self.grid.size\n",
        "    elif self.direction == 2:\n",
        "      self.y = (self.y + 1) % self.grid.size\n",
        "    elif self.direction == 3:\n",
        "      self.x = (self.x - 1) % self.grid.size\n",
        "\n",
        "  def step(self):\n",
        "    self.turn()\n",
        "    self.grid.state[self.y, self.x] = self.grid.state[self.y, self.x] * (-1) + 1\n",
        "    self.move_forward()\n",
        "\n",
        "\n",
        "  def draw(self, axes=None, step=''):\n",
        "    axes = axes or plt.gca()\n",
        "    plot_2D_array(self.grid.state, axes, title='')\n",
        "\n",
        "  def nth_step(self, steps):\n",
        "    for step in range(steps):\n",
        "      self.step()\n",
        "\n",
        "\n",
        "\n",
        "\n",
        "\n"
      ],
      "metadata": {
        "id": "Qtpx9Tn0W3WS"
      },
      "execution_count": 13,
      "outputs": []
    },
    {
      "cell_type": "code",
      "source": [
        "foo = grid(400)\n",
        "test = Ant(200, 200, 0, foo)\n",
        "#anim = Animation2D(test, 200, 10)\n",
        "#anim.animate(interval=0)\n",
        "\n",
        "test.nth_step(20000)\n",
        "plot_2D_array(test.grid.state)\n",
        "test2 = Ant(600, 600, 0, foo)\n",
        "test2.nth_step(10000)\n"
      ],
      "metadata": {
        "colab": {
          "base_uri": "https://localhost:8080/",
          "height": 406
        },
        "id": "OjCT4Mab4bhv",
        "outputId": "4ecc19c6-07cd-4c44-c91e-c523fa97720d"
      },
      "execution_count": 21,
      "outputs": [
        {
          "output_type": "display_data",
          "data": {
            "text/plain": [
              "<Figure size 640x480 with 1 Axes>"
            ],
            "image/png": "[encoded data removed]"
          },
          "metadata": {}
        }
      ]
    },
    {
      "cell_type": "code",
      "source": [
        "\n",
        "\n"
      ],
      "metadata": {
        "id": "jwzormZb3CUY"
      },
      "execution_count": 6,
      "outputs": []
    },
    {
      "cell_type": "markdown",
      "source": [],
      "metadata": {
        "id": "cskeKpypSO--"
      }
    },
    {
      "cell_type": "code",
      "source": [
        "frames = range(1000, 10000, 1000)\n",
        "hundred = Ant(50, 50, 0, grid(100))\n",
        "five_hundred = Ant(250, 250, 0, grid(500))\n",
        "thousand = Ant(500, 500, 0, grid(1000))\n",
        "times1 = [timeit(lambda: hundred.nth_step(frame), number=10) for frame in frames]\n",
        "times2 = [timeit(lambda: five_hundred.nth_step(frame), number=10) for frame in frames]\n",
        "times3 = [timeit(lambda: thousand.nth_step(frame), number=10) for frame in frames]\n",
        "plt.plot(frames, times1)\n",
        "plt.plot(frames, times2)\n",
        "plt.plot(frames, times3)\n",
        "plt.show()\n",
        "\n",
        "\n",
        "\n"
      ],
      "metadata": {
        "colab": {
          "base_uri": "https://localhost:8080/",
          "height": 430
        },
        "id": "0vIwnTHRSPi0",
        "outputId": "e1cf67fa-eb51-4ad0-c4de-d95faa276972"
      },
      "execution_count": 20,
      "outputs": [
        {
          "output_type": "display_data",
          "data": {
            "text/plain": [
              "<Figure size 640x480 with 1 Axes>"
            ],
            "image/png": "[encoded data removed]"
          },
          "metadata": {}
        }
      ]
    },
    {
      "cell_type": "code",
      "source": [],
      "metadata": {
        "id": "HNgzZ6g4SAdI"
      },
      "execution_count": null,
      "outputs": []
    }
  ]
}