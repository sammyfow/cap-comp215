{
  "nbformat": 4,
  "nbformat_minor": 0,
  "metadata": {
    "colab": {
      "provenance": [],
      "authorship_tag": "ABX9TyMquzN6c9sgLcm1CRlARb6Y",
      "include_colab_link": true
    },
    "kernelspec": {
      "name": "python3",
      "display_name": "Python 3"
    },
    "language_info": {
      "name": "python"
    }
  },
  "cells": [
    {
      "cell_type": "markdown",
      "metadata": {
        "id": "view-in-github",
        "colab_type": "text"
      },
      "source": [
        "<a href=\"https://colab.research.google.com/github/sammyfow/cap-comp215/blob/2024.01/project2.ipynb\" target=\"_parent\"><img src=\"https://colab.research.google.com/assets/colab-badge.svg\" alt=\"Open In Colab\"/></a>"
      ]
    },
    {
      "cell_type": "markdown",
      "source": [
        "Langton's Ant\n",
        "--------------------------------------------------------------------------------\n",
        "###Sam Fowler\n",
        "04/05/2024 to\n"
      ],
      "metadata": {
        "id": "2HjLLfWYij3E"
      }
    },
    {
      "cell_type": "markdown",
      "source": [
        "Modules"
      ],
      "metadata": {
        "id": "rHYEs-EDT7zB"
      }
    },
    {
      "cell_type": "code",
      "execution_count": 93,
      "metadata": {
        "id": "Oo4EYjOcTd2w"
      },
      "outputs": [],
      "source": [
        "import time\n",
        "import matplotlib\n",
        "import matplotlib.pyplot as plt\n",
        "from matplotlib import animation\n",
        "import numpy as np\n",
        "from timeit import timeit\n",
        "%matplotlib inline\n",
        "# Configure matplotlib's animation library to work in the browser.\n",
        "matplotlib.rc('animation', html='jshtml')"
      ]
    },
    {
      "cell_type": "markdown",
      "source": [
        "Useful function for visualizing a 2D array, as well as the Animation2D class to easily view sequential steps as an animation."
      ],
      "metadata": {
        "id": "W5_DVGMkUAm4"
      }
    },
    {
      "cell_type": "code",
      "source": [
        "def plot_2D_array(array, axes=None, title='', cmap='rainbow', **options):\n",
        "  axes = axes or plt.gca()\n",
        "  axes.set_title(title)\n",
        "  axes.tick_params(axis='both', which='both', bottom=False, top=False, left=False, right=False,\n",
        "                   labelbottom=False, labeltop=False, labelleft=False, labelright=False,)\n",
        "  options = {**dict(interpolation='nearest', origin='upper'), **options}\n",
        "  axes.imshow(array, cmap=cmap, **options)"
      ],
      "metadata": {
        "id": "yYqZaUkSUBGt"
      },
      "execution_count": 108,
      "outputs": []
    },
    {
      "cell_type": "code",
      "source": [
        "class Animation2D:\n",
        "    \"\"\"\n",
        "      Animates any 2D model with a step() method and a draw() method, using matplotlib\n",
        "      model.step() should take no parameters - just step the model forward one step.\n",
        "      model.draw() should take 2 parameters, the matpltolib axes to draw on and an integer step number\n",
        "    \"\"\"\n",
        "\n",
        "    def __init__(self, model, frames=50, steps_per_frame=1, figsize=(8, 8)):\n",
        "        \"\"\"\n",
        "        :param model: the simulation object to animate, with step() and draw(axes, step) methods\n",
        "        :param frames: number of animation frames to generate\n",
        "        \"\"\"\n",
        "        self.model = model\n",
        "        self.frames = frames\n",
        "        self.steps_per_frame = steps_per_frame\n",
        "        self.fig, self.ax = plt.subplots(figsize=figsize)\n",
        "\n",
        "    def animation_step(self, step):\n",
        "        \"\"\" Step the model forward and draw the plot \"\"\"\n",
        "        if step > 0:\n",
        "          for _ in range(self.steps_per_frame):\n",
        "            self.model.step()\n",
        "        self.model.draw(self.ax, step=step)\n",
        "\n",
        "    def show(self):\n",
        "        \"\"\" return the matplotlib animation object, ready for display \"\"\"\n",
        "        anim = animation.FuncAnimation(self.fig, self.animation_step, frames=self.frames)\n",
        "        plt.close()  # this ensures the last frame is not shown as a separate plot\n",
        "        return anim\n",
        "\n",
        "    def animate(self, interval=None):\n",
        "        \"\"\" Animate the model simulation directly in the notebook display block \"\"\"\n",
        "        from IPython.display import clear_output\n",
        "        try:\n",
        "            for i in range(self.frames):\n",
        "                clear_output(wait=True)  # clear the IPython display\n",
        "                self.ax.clear()          # clear old image from the axes (fixes a performance issue)\n",
        "                plt.figure(self.fig)     # add the figure back to pyplot ** sigh **\n",
        "                self.animation_step(i)\n",
        "                plt.show()               # show the current animation frame (pyplot then closes and throws away figure ** sigh **)\n",
        "                if interval:\n",
        "                    time.sleep(interval)\n",
        "        except KeyboardInterrupt:\n",
        "            pass"
      ],
      "metadata": {
        "id": "iceBL0H84KEA"
      },
      "execution_count": 95,
      "outputs": []
    },
    {
      "cell_type": "markdown",
      "source": [
        "A grid class for ants to live on and an Ant class to walk around the grid."
      ],
      "metadata": {
        "id": "Ho0Xg1ZJWrYX"
      }
    },
    {
      "cell_type": "code",
      "source": [
        "class Grid:\n",
        "  def __init__(self, size):\n",
        "    self.size = size\n",
        "    self.state = np.zeros((size, size), dtype=np.uint8)\n",
        "\n",
        "\n",
        "class Ant:\n",
        "  \"\"\"\n",
        "  an ant that moves around a 2D array changing ones to zeros and zeros to ones\n",
        "  \"\"\"\n",
        "  def __init__(self, y, x, direction, grid):\n",
        "    self.direction = direction  #up=0, down=2, right=1, left=3\n",
        "    self.grid = grid\n",
        "    self.x = x % self.grid.size\n",
        "    self.y = y % self.grid.size\n",
        "\n",
        "  def turn(self):\n",
        "    if self.grid.state[self.y, self.x] == 0:\n",
        "      self.direction = (self.direction + 1) % 4\n",
        "    elif self.grid.state[self.y, self.x] == 1:\n",
        "      self.direction = (self.direction - 1) % 4\n",
        "\n",
        "  def move_forward(self):\n",
        "    if self.direction == 0:\n",
        "      self.y = (self.y - 1) % self.grid.size\n",
        "    elif self.direction == 1:\n",
        "      self.x = (self.x + 1) % self.grid.size\n",
        "    elif self.direction == 2:\n",
        "      self.y = (self.y + 1) % self.grid.size\n",
        "    elif self.direction == 3:\n",
        "      self.x = (self.x - 1) % self.grid.size\n",
        "\n",
        "  def step(self):\n",
        "    self.turn()\n",
        "    self.grid.state[self.y, self.x] = (self.grid.state[self.y, self.x] + 1) % 2\n",
        "    self.move_forward()\n",
        "\n",
        "\n",
        "\n",
        "\n",
        "\n",
        "\n",
        "\n",
        "\n"
      ],
      "metadata": {
        "id": "Qtpx9Tn0W3WS"
      },
      "execution_count": 96,
      "outputs": []
    },
    {
      "cell_type": "markdown",
      "source": [
        "The Langton class below allows for an arbitrary number of ants to be simulated simultaneously on the same grid, adding more complexity to the original experiment."
      ],
      "metadata": {
        "id": "h4YZL37YU0ZB"
      }
    },
    {
      "cell_type": "code",
      "source": [
        "class Langton:\n",
        "  def __init__(self, ants:list):\n",
        "    self.ants = ants\n",
        "\n",
        "  def step(self):\n",
        "    for ant in self.ants:\n",
        "      ant.step()\n",
        "\n",
        "  def nth_step(self, steps):\n",
        "    for step in range(steps):\n",
        "      self.step()\n",
        "\n",
        "  def draw(self, axes=None, step=''):\n",
        "    axes = axes or plt.gca()\n",
        "    plot_2D_array(self.ants[0].grid.state, axes, title='')"
      ],
      "metadata": {
        "id": "vgY0aYXhWxqU"
      },
      "execution_count": 97,
      "outputs": []
    },
    {
      "cell_type": "markdown",
      "source": [
        "The original Ant class only allows an ant to flip between 1s and 0s. The complex ant class below allows for an arbitrary number of possible states for each cell and a rule for each possible state."
      ],
      "metadata": {
        "id": "iD1upAYrWyRg"
      }
    },
    {
      "cell_type": "code",
      "source": [
        "class Complex_Ant:\n",
        "  \"\"\"\n",
        "  an ant that allows for many states in each cell with a rule to turn right or\n",
        "  left for each state.\n",
        "  To replicate the original ants rules, lefton would be [1] righton would be [0]\n",
        "  \"\"\"\n",
        "  def __init__(self, y, x, direction, lefton:list, righton:list, grid):\n",
        "    self.direction = direction  #up=0, down=2, right=1, left=3\n",
        "    self.lefton = lefton\n",
        "    self.righton = righton\n",
        "    self.shades = len(lefton) + len(righton)\n",
        "    self.grid = grid\n",
        "    self.x = x % self.grid.size\n",
        "    self.y = y % self.grid.size\n",
        "\n",
        "  def turn(self):\n",
        "    if self.grid.state[self.y, self.x] in self.righton:\n",
        "      self.direction = (self.direction + 1) % 4\n",
        "    elif self.grid.state[self.y, self.x] in self.lefton:\n",
        "      self.direction = (self.direction - 1) % 4\n",
        "\n",
        "  def move_forward(self):\n",
        "    if self.direction == 0:\n",
        "      self.y = (self.y - 1) % self.grid.size\n",
        "    elif self.direction == 1:\n",
        "      self.x = (self.x + 1) % self.grid.size\n",
        "    elif self.direction == 2:\n",
        "      self.y = (self.y + 1) % self.grid.size\n",
        "    elif self.direction == 3:\n",
        "      self.x = (self.x - 1) % self.grid.size\n",
        "\n",
        "  def step(self):\n",
        "    self.turn()\n",
        "    self.grid.state[self.y, self.x] = (self.grid.state[self.y, self.x] + 1) % self.shades\n",
        "    self.move_forward()\n",
        "\n"
      ],
      "metadata": {
        "id": "OjCT4Mab4bhv"
      },
      "execution_count": 98,
      "outputs": []
    },
    {
      "cell_type": "code",
      "source": [
        "foobar = Grid(400)\n",
        "test5 = Complex_Ant(150, 200, 2, [1,2], [0,3], foobar)\n",
        "test6 = Complex_Ant(250, 200, 0, [1,2], [0,3], foobar)\n",
        "lang1 = Langton([test5, test6])\n",
        "lang1.nth_step(1000000)\n",
        "lang1.draw()"
      ],
      "metadata": {
        "colab": {
          "base_uri": "https://localhost:8080/",
          "height": 406
        },
        "id": "jwzormZb3CUY",
        "outputId": "079d06f9-a232-45c6-bf72-b8a422aa6cc3"
      },
      "execution_count": 115,
      "outputs": [
        {
          "output_type": "display_data",
          "data": {
            "text/plain": [
              "<Figure size 640x480 with 1 Axes>"
            ],
            "image/png": "[encoded data removed]"
          },
          "metadata": {}
        }
      ]
    },
    {
      "cell_type": "markdown",
      "source": [],
      "metadata": {
        "id": "cskeKpypSO--"
      }
    },
    {
      "cell_type": "code",
      "source": [
        "frames = range(1000, 10000, 1000)\n",
        "hundred = Langton(50, 50, 0, Grid(100))\n",
        "five_hundred = Langton(250, 250, 0, Grid(500))\n",
        "thousand = Langton(500, 500, 0, Grid(1000))\n",
        "times1 = [timeit(lambda: hundred.nth_step(frame), number=10) for frame in frames]\n",
        "times2 = [timeit(lambda: five_hundred.nth_step(frame), number=10) for frame in frames]\n",
        "times3 = [timeit(lambda: thousand.nth_step(frame), number=10) for frame in frames]\n",
        "plt.plot(frames, times1)\n",
        "plt.plot(frames, times2)\n",
        "plt.plot(frames, times3)\n",
        "plt.show()\n",
        "\n",
        "\n",
        "\n"
      ],
      "metadata": {
        "colab": {
          "base_uri": "https://localhost:8080/",
          "height": 211
        },
        "id": "0vIwnTHRSPi0",
        "outputId": "243557f5-aa93-4d1b-9936-c902c9d2f704"
      },
      "execution_count": 101,
      "outputs": [
        {
          "output_type": "error",
          "ename": "TypeError",
          "evalue": "Langton.__init__() takes 2 positional arguments but 5 were given",
          "traceback": [
            "\u001b[0;31m---------------------------------------------------------------------------\u001b[0m",
            "\u001b[0;31mTypeError\u001b[0m                                 Traceback (most recent call last)",
            "\u001b[0;32m<ipython-input-101-4bf1e22a236b>\u001b[0m in \u001b[0;36m<cell line: 2>\u001b[0;34m()\u001b[0m\n\u001b[1;32m      1\u001b[0m \u001b[0mframes\u001b[0m \u001b[0;34m=\u001b[0m \u001b[0mrange\u001b[0m\u001b[0;34m(\u001b[0m\u001b[0;36m1000\u001b[0m\u001b[0;34m,\u001b[0m \u001b[0;36m10000\u001b[0m\u001b[0;34m,\u001b[0m \u001b[0;36m1000\u001b[0m\u001b[0;34m)\u001b[0m\u001b[0;34m\u001b[0m\u001b[0;34m\u001b[0m\u001b[0m\n\u001b[0;32m----> 2\u001b[0;31m \u001b[0mhundred\u001b[0m \u001b[0;34m=\u001b[0m \u001b[0mLangton\u001b[0m\u001b[0;34m(\u001b[0m\u001b[0;36m50\u001b[0m\u001b[0;34m,\u001b[0m \u001b[0;36m50\u001b[0m\u001b[0;34m,\u001b[0m \u001b[0;36m0\u001b[0m\u001b[0;34m,\u001b[0m \u001b[0mGrid\u001b[0m\u001b[0;34m(\u001b[0m\u001b[0;36m100\u001b[0m\u001b[0;34m)\u001b[0m\u001b[0;34m)\u001b[0m\u001b[0;34m\u001b[0m\u001b[0;34m\u001b[0m\u001b[0m\n\u001b[0m\u001b[1;32m      3\u001b[0m \u001b[0mfive_hundred\u001b[0m \u001b[0;34m=\u001b[0m \u001b[0mLangton\u001b[0m\u001b[0;34m(\u001b[0m\u001b[0;36m250\u001b[0m\u001b[0;34m,\u001b[0m \u001b[0;36m250\u001b[0m\u001b[0;34m,\u001b[0m \u001b[0;36m0\u001b[0m\u001b[0;34m,\u001b[0m \u001b[0mGrid\u001b[0m\u001b[0;34m(\u001b[0m\u001b[0;36m500\u001b[0m\u001b[0;34m)\u001b[0m\u001b[0;34m)\u001b[0m\u001b[0;34m\u001b[0m\u001b[0;34m\u001b[0m\u001b[0m\n\u001b[1;32m      4\u001b[0m \u001b[0mthousand\u001b[0m \u001b[0;34m=\u001b[0m \u001b[0mLangton\u001b[0m\u001b[0;34m(\u001b[0m\u001b[0;36m500\u001b[0m\u001b[0;34m,\u001b[0m \u001b[0;36m500\u001b[0m\u001b[0;34m,\u001b[0m \u001b[0;36m0\u001b[0m\u001b[0;34m,\u001b[0m \u001b[0mGrid\u001b[0m\u001b[0;34m(\u001b[0m\u001b[0;36m1000\u001b[0m\u001b[0;34m)\u001b[0m\u001b[0;34m)\u001b[0m\u001b[0;34m\u001b[0m\u001b[0;34m\u001b[0m\u001b[0m\n\u001b[1;32m      5\u001b[0m \u001b[0mtimes1\u001b[0m \u001b[0;34m=\u001b[0m \u001b[0;34m[\u001b[0m\u001b[0mtimeit\u001b[0m\u001b[0;34m(\u001b[0m\u001b[0;32mlambda\u001b[0m\u001b[0;34m:\u001b[0m \u001b[0mhundred\u001b[0m\u001b[0;34m.\u001b[0m\u001b[0mnth_step\u001b[0m\u001b[0;34m(\u001b[0m\u001b[0mframe\u001b[0m\u001b[0;34m)\u001b[0m\u001b[0;34m,\u001b[0m \u001b[0mnumber\u001b[0m\u001b[0;34m=\u001b[0m\u001b[0;36m10\u001b[0m\u001b[0;34m)\u001b[0m \u001b[0;32mfor\u001b[0m \u001b[0mframe\u001b[0m \u001b[0;32min\u001b[0m \u001b[0mframes\u001b[0m\u001b[0;34m]\u001b[0m\u001b[0;34m\u001b[0m\u001b[0;34m\u001b[0m\u001b[0m\n",
            "\u001b[0;31mTypeError\u001b[0m: Langton.__init__() takes 2 positional arguments but 5 were given"
          ]
        }
      ]
    },
    {
      "cell_type": "code",
      "source": [],
      "metadata": {
        "id": "HNgzZ6g4SAdI"
      },
      "execution_count": null,
      "outputs": []
    }
  ]
}