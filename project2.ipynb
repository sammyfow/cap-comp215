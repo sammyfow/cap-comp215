{
  "nbformat": 4,
  "nbformat_minor": 0,
  "metadata": {
    "colab": {
      "provenance": [],
      "authorship_tag": "ABX9TyMmKZXDKmsoIO/990uy+g4y",
      "include_colab_link": true
    },
    "kernelspec": {
      "name": "python3",
      "display_name": "Python 3"
    },
    "language_info": {
      "name": "python"
    }
  },
  "cells": [
    {
      "cell_type": "markdown",
      "metadata": {
        "id": "view-in-github",
        "colab_type": "text"
      },
      "source": [
        "<a href=\"https://colab.research.google.com/github/sammyfow/cap-comp215/blob/2024.01/project2.ipynb\" target=\"_parent\"><img src=\"https://colab.research.google.com/assets/colab-badge.svg\" alt=\"Open In Colab\"/></a>"
      ]
    },
    {
      "cell_type": "markdown",
      "source": [],
      "metadata": {
        "id": "rHYEs-EDT7zB"
      }
    },
    {
      "cell_type": "code",
      "execution_count": 1,
      "metadata": {
        "id": "Oo4EYjOcTd2w"
      },
      "outputs": [],
      "source": [
        "import matplotlib\n",
        "import matplotlib.pyplot as plt\n",
        "from matplotlib import animation\n",
        "import numpy as np\n",
        "from scipy.signal import correlate2d\n",
        "\n",
        "%matplotlib inline\n",
        "# Configure matplotlib's animation library to work in the browser.\n",
        "matplotlib.rc('animation', html='jshtml')"
      ]
    },
    {
      "cell_type": "markdown",
      "source": [],
      "metadata": {
        "id": "W5_DVGMkUAm4"
      }
    },
    {
      "cell_type": "code",
      "source": [
        "def plot_2D_array(array, axes=None, title='', cmap='Blues', **options):\n",
        "  axes = axes or plt.gca()\n",
        "  axes.set_title(title)\n",
        "  axes.tick_params(axis='both', which='both', bottom=False, top=False, left=False, right=False,\n",
        "                   labelbottom=False, labeltop=False, labelleft=False, labelright=False,)\n",
        "  options = {**dict(interpolation='nearest', origin='upper'), **options}\n",
        "  axes.imshow(array, cmap=cmap, **options)"
      ],
      "metadata": {
        "id": "yYqZaUkSUBGt"
      },
      "execution_count": 2,
      "outputs": []
    },
    {
      "cell_type": "code",
      "source": [
        "class Animation2D:\n",
        "    \"\"\"\n",
        "      Animates any 2D model with a step() method and a draw() method, using matplotlib\n",
        "      model.step() should take no parameters - just step the model forward one step.\n",
        "      model.draw() should take 2 parameters, the matpltolib axes to draw on and an integer step number\n",
        "    \"\"\"\n",
        "\n",
        "    def __init__(self, model, frames=50, figsize=(8, 8)):\n",
        "        \"\"\"\n",
        "        :param model: the simulation object to animate, with step() and draw(axes, step) methods\n",
        "        :param frames: number of animation frames to generate\n",
        "        \"\"\"\n",
        "        self.model = model\n",
        "        self.frames = frames\n",
        "        self.fig, self.ax = plt.subplots(figsize=figsize)\n",
        "\n",
        "    def animation_step(self, step):\n",
        "        \"\"\" Step the model forward and draw the plot \"\"\"\n",
        "        if step > 0:\n",
        "            self.model.step()\n",
        "        self.model.draw(self.ax, step=step)\n",
        "\n",
        "    def show(self):\n",
        "        \"\"\" return the matplotlib animation object, ready for display \"\"\"\n",
        "        anim = animation.FuncAnimation(self.fig, self.animation_step, frames=self.frames)\n",
        "        plt.close()  # this ensures the last frame is not shown as a separate plot\n",
        "        return anim\n",
        "\n",
        "    def animate(self, interval=None):\n",
        "        \"\"\" Animate the model simulation directly in the notebook display block \"\"\"\n",
        "        from IPython.display import clear_output\n",
        "        try:\n",
        "            for i in range(self.frames):\n",
        "                clear_output(wait=True)  # clear the IPython display\n",
        "                self.ax.clear()          # clear old image from the axes (fixes a performance issue)\n",
        "                plt.figure(self.fig)     # add the figure back to pyplot ** sigh **\n",
        "                self.animation_step(i)\n",
        "                plt.show()               # show the current animation frame (pyplot then closes and throws away figure ** sigh **)\n",
        "                if interval:\n",
        "                    time.sleep(interval)\n",
        "        except KeyboardInterrupt:\n",
        "            pass"
      ],
      "metadata": {
        "id": "iceBL0H84KEA"
      },
      "execution_count": 50,
      "outputs": []
    },
    {
      "cell_type": "markdown",
      "source": [],
      "metadata": {
        "id": "Ho0Xg1ZJWrYX"
      }
    },
    {
      "cell_type": "code",
      "source": [
        "class ant:\n",
        "\n",
        "\n",
        "  def __init__(self, y, x, direction, size):\n",
        "    self.direction = direction\n",
        "    self.x = x\n",
        "    self.y = y\n",
        "    self.position = (self.y, self.x)\n",
        "    self.grid = np.zeros((size, size), dtype=np.uint8)\n",
        "\n",
        "  def turn_right(self):\n",
        "    self.direction = (self.direction + 1) % 4\n",
        "\n",
        "  def turn_left(self):\n",
        "    self.direction = (self.direction - 1) % 4\n",
        "\n",
        "  def move_forward(self):\n",
        "    if self.direction == 0:\n",
        "      self.y += -1\n",
        "    elif self.direction == 1:\n",
        "      self.x += 1\n",
        "    elif self.direction == 2:\n",
        "      self.y += 1\n",
        "    elif self.direction == 3:\n",
        "      self.x += -1\n",
        "\n",
        "  def step(self):\n",
        "    if self.grid[self.y, self.x] == 0:\n",
        "      self.grid[self.y, self.x] += 1\n",
        "      self.turn_left()\n",
        "      self.move_forward()\n",
        "    elif self.grid[self.y, self.x] == 1:\n",
        "      self.grid[self.y, self.x] += -1\n",
        "      self.turn_right()\n",
        "      self.move_forward()\n",
        "\n",
        "  def draw(self, axes=None, step=''):\n",
        "    axes = axes or plt.gca()\n",
        "    plot_2D_array(self.grid, axes, title='')\n",
        "\n",
        "\n",
        "\n",
        "\n"
      ],
      "metadata": {
        "id": "Qtpx9Tn0W3WS"
      },
      "execution_count": 58,
      "outputs": []
    },
    {
      "cell_type": "code",
      "source": [
        "test = ant(5, 5, 0, 15)\n",
        "anim = Animation2D(test, 100)\n",
        "anim.animate()"
      ],
      "metadata": {
        "colab": {
          "base_uri": "https://localhost:8080/",
          "height": 653
        },
        "id": "OjCT4Mab4bhv",
        "outputId": "03f01de1-be89-413e-cc49-3cc62b5d5bfd"
      },
      "execution_count": 60,
      "outputs": [
        {
          "output_type": "display_data",
          "data": {
            "text/plain": [
              "<Figure size 800x800 with 1 Axes>"
            ],
            "image/png": "[encoded data removed]"
          },
          "metadata": {}
        }
      ]
    }
  ]
}