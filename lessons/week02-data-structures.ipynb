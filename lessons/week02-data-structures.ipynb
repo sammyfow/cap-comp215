{
  "nbformat": 4,
  "nbformat_minor": 0,
  "metadata": {
    "colab": {
      "name": "week2.ipynb",
      "provenance": [],
      "include_colab_link": true
    },
    "kernelspec": {
      "name": "python3",
      "display_name": "Python 3"
    },
    "language_info": {
      "name": "python"
    }
  },
  "cells": [
    {
      "cell_type": "markdown",
      "metadata": {
        "id": "view-in-github",
        "colab_type": "text"
      },
      "source": [
        "<a href=\"https://colab.research.google.com/github/sammyfow/cap-comp215/blob/2024.01/lessons/week02-data-structures.ipynb\" target=\"_parent\"><img src=\"https://colab.research.google.com/assets/colab-badge.svg\" alt=\"Open In Colab\"/></a>"
      ]
    },
    {
      "cell_type": "markdown",
      "source": [
        "# Sequence and Map data structures - Strings, Tuples, Lists, Dictionaries\n",
        "Our week 2 lesson workbook, available on Github from the powderflask/cap-comp215 repository.\n",
        "\n",
        "As usual, the first code block just imports the modules we will use."
      ],
      "metadata": {
        "id": "WBMC0GrjNRTM"
      }
    },
    {
      "cell_type": "code",
      "execution_count": null,
      "metadata": {
        "id": "C1a6aDXAM0WM"
      },
      "outputs": [],
      "source": [
        "import datetime\n",
        "import matplotlib.pyplot as plt\n",
        "import  matplotlib.dates as mdates\n",
        "from pprint import pprint"
      ]
    },
    {
      "cell_type": "markdown",
      "source": [
        "## f-strings\n",
        "A `string` is a sequence of characters / symbols.\n",
        "This familiar data structure is quite powerful, and format-strings (f-strings) take it to the next level...."
      ],
      "metadata": {
        "collapsed": false,
        "pycharm": {
          "name": "#%% md\n"
        },
        "id": "QhYAiAU9ZuDZ"
      }
    },
    {
      "cell_type": "code",
      "execution_count": null,
      "outputs": [
        {
          "output_type": "execute_result",
          "data": {
            "text/plain": [
              "'{today} is not special, but {the_answer} and {PI} are!'"
            ],
            "application/vnd.google.colaboratory.intrinsic+json": {
              "type": "string"
            }
          },
          "metadata": {},
          "execution_count": 3
        }
      ],
      "source": [
        "today = datetime.date.today()\n",
        "the_answer = 42\n",
        "PI = 3.1415926535\n",
        "\n",
        "'{today} is not special, but {the_answer} and {PI} are!'"
      ],
      "metadata": {
        "pycharm": {
          "name": "#%%\n"
        },
        "colab": {
          "base_uri": "https://localhost:8080/",
          "height": 35
        },
        "id": "NEOdp80JZuDZ",
        "outputId": "8ca84603-e407-4108-8627-3e4e3d7c24cf"
      }
    },
    {
      "cell_type": "code",
      "source": [],
      "metadata": {
        "id": "ycFeIcQmaE76"
      },
      "execution_count": null,
      "outputs": []
    },
    {
      "cell_type": "markdown",
      "source": [
        "## List Comprehension\n",
        "Provides a compact syntax for two very common sequence-processing algorithms:  Map  and Filter\n",
        "\n",
        "Basic syntax:"
      ],
      "metadata": {
        "id": "k70NJ-JTNwYN"
      }
    },
    {
      "cell_type": "code",
      "source": [
        "#[f(x) for x in C if g(x)]\n",
        "[i**2 for i in range(100) if i%2==0]"
      ],
      "metadata": {
        "id": "HZSz8IftqJ72",
        "colab": {
          "base_uri": "https://localhost:8080/"
        },
        "outputId": "1c9c9a04-3f4b-44fc-ff48-d63957768954"
      },
      "execution_count": null,
      "outputs": [
        {
          "output_type": "execute_result",
          "data": {
            "text/plain": [
              "[0,\n",
              " 4,\n",
              " 16,\n",
              " 36,\n",
              " 64,\n",
              " 100,\n",
              " 144,\n",
              " 196,\n",
              " 256,\n",
              " 324,\n",
              " 400,\n",
              " 484,\n",
              " 576,\n",
              " 676,\n",
              " 784,\n",
              " 900,\n",
              " 1024,\n",
              " 1156,\n",
              " 1296,\n",
              " 1444,\n",
              " 1600,\n",
              " 1764,\n",
              " 1936,\n",
              " 2116,\n",
              " 2304,\n",
              " 2500,\n",
              " 2704,\n",
              " 2916,\n",
              " 3136,\n",
              " 3364,\n",
              " 3600,\n",
              " 3844,\n",
              " 4096,\n",
              " 4356,\n",
              " 4624,\n",
              " 4900,\n",
              " 5184,\n",
              " 5476,\n",
              " 5776,\n",
              " 6084,\n",
              " 6400,\n",
              " 6724,\n",
              " 7056,\n",
              " 7396,\n",
              " 7744,\n",
              " 8100,\n",
              " 8464,\n",
              " 8836,\n",
              " 9216,\n",
              " 9604]"
            ]
          },
          "metadata": {},
          "execution_count": 4
        }
      ]
    },
    {
      "cell_type": "markdown",
      "source": [
        "### Map Algorithm\n",
        "Apply the same function to every item in another sequence (i.e., provide a \"mapping\" from the source sequence to the target"
      ],
      "metadata": {
        "collapsed": false,
        "pycharm": {
          "name": "#%% md\n"
        },
        "id": "WbnJYfBXZuDe"
      }
    },
    {
      "cell_type": "code",
      "execution_count": null,
      "outputs": [
        {
          "output_type": "execute_result",
          "data": {
            "text/plain": [
              "[0, 1, 4, 9, 16, 25, 36, 49, 64, 81]"
            ]
          },
          "metadata": {},
          "execution_count": 7
        }
      ],
      "source": [
        "# Problem:  compute the first 10 natural squares\n",
        "[i**2 for i in range(10)]"
      ],
      "metadata": {
        "pycharm": {
          "name": "#%%\n"
        },
        "colab": {
          "base_uri": "https://localhost:8080/"
        },
        "id": "QKaRH96oZuDf",
        "outputId": "9d32fb70-493e-4682-9385-1851b940408c"
      }
    },
    {
      "cell_type": "markdown",
      "source": [
        "### Filter\n",
        "Select a sub-set of the elements from another sequence based on some criteria."
      ],
      "metadata": {
        "collapsed": false,
        "pycharm": {
          "name": "#%% md\n"
        },
        "id": "QoPOJeBOZuDg"
      }
    },
    {
      "cell_type": "code",
      "execution_count": null,
      "outputs": [
        {
          "output_type": "execute_result",
          "data": {
            "text/plain": [
              "'oeiuooiaeoeeuaiiieieoeiuoeoiiiuuaoeeooeaaaiuaeiaiieiauioueeiaiouaoaoiiiuaiuieeaooooeua'"
            ],
            "application/vnd.google.colaboratory.intrinsic+json": {
              "type": "string"
            }
          },
          "metadata": {},
          "execution_count": 9
        }
      ],
      "source": [
        "VOWELS = 'aeiou'\n",
        "text = '''\n",
        "Lorem ipsum dolor sit amet, consectetur adipiscing elit, sed do eiusmod tempor incididunt ut labore et dolore magna aliqua. Ut enim ad minim veniam, quis nostrud exercitation ullamco laboris nisi ut aliquip ex ea commodo consequat.\n",
        "'''\n",
        "# Problem:  create a string with just the vowels from the text, in order.\n",
        "''.join([i for i in text if i in VOWELS])\n"
      ],
      "metadata": {
        "pycharm": {
          "name": "#%%\n"
        },
        "colab": {
          "base_uri": "https://localhost:8080/",
          "height": 35
        },
        "id": "ZNGbrR-7ZuDg",
        "outputId": "99cdf523-a500-4ead-969e-d79e9838735c"
      }
    },
    {
      "cell_type": "markdown",
      "source": [
        "## Data Wrangling with List Comprehension\n",
        "E-learn's Live Quiz module does track quiz scores for each student, but does not store them in the gradebook,\n",
        "and it reports on them in the most useless way.\n",
        "\n",
        "Let's do some \"data wrangling\" to make sense out of this mess!\n",
        "\n",
        "### The Problem: Unstructured Data!\n",
        "Notice it is just a single large string!  The real data set has 36 students, and I need to do this every week!"
      ],
      "metadata": {
        "collapsed": false,
        "pycharm": {
          "name": "#%% md\n"
        },
        "id": "A-Y3lqXAZuDh"
      }
    },
    {
      "cell_type": "code",
      "execution_count": null,
      "outputs": [],
      "source": [
        "data = \"\"\"\n",
        "  1.                 Ali Oop scored  7/ 8 = 87%\n",
        "\n",
        "\n",
        "  2.          Alison Ralison scored  8/ 8 = 100%\n",
        "\n",
        "\n",
        "  3.         Ambily Piturbed scored  8/ 8 = 100%\n",
        "\n",
        "\n",
        "  4.  Arshan Risnot Farquared scored  5/ 8 = 62%\n",
        "\n",
        "\n",
        "  5.       Ayushma Jugernaugh scored  5/ 8 = 62%\n",
        "\n",
        "\n",
        "  6.       Brayden Labaguette scored  7/ 8 = 87%\n",
        "\"\"\""
      ],
      "metadata": {
        "pycharm": {
          "name": "#%%\n"
        },
        "id": "DP5Trmo_ZuDi"
      }
    },
    {
      "cell_type": "markdown",
      "source": [
        "### Goal\n",
        "Turn this into structured data: a list of 2-tuples, each student's full name and their integer score."
      ],
      "metadata": {
        "collapsed": false,
        "pycharm": {
          "name": "#%% md\n"
        },
        "id": "Zy36IhhJZuDi"
      }
    },
    {
      "cell_type": "code",
      "execution_count": null,
      "outputs": [
        {
          "output_type": "execute_result",
          "data": {
            "text/plain": [
              "[('Ali Oop', 7),\n",
              " ('Alison Ralison', 8),\n",
              " ('Ambily Piturbed', 8),\n",
              " ('Arshan Risnot Farquared', 5),\n",
              " ('Ayushma Jugernaugh', 5),\n",
              " ('Brayden Labaguette', 7)]"
            ]
          },
          "metadata": {},
          "execution_count": 55
        }
      ],
      "source": [
        "list_one = [s.split() for s in data.split('\\n') if s]\n",
        "names = [' '.join(s[1:-5]) for s in list_one]\n",
        "scores = [int(s[-4].rstrip('/')) for s in list_one]\n",
        "list(zip(names, scores))\n",
        "\n"
      ],
      "metadata": {
        "pycharm": {
          "name": "#%%\n"
        },
        "colab": {
          "base_uri": "https://localhost:8080/"
        },
        "id": "4iPq2oAeZuDj",
        "outputId": "6c7dd7f3-7cf7-4a4d-a7a5-e07aefaeb8d5"
      }
    },
    {
      "cell_type": "markdown",
      "source": [
        "## Records\n",
        "A *record* is a compound data value - a collection of simpler data values (fields) that all describe a single entity.\n",
        "\n",
        " * tuple\n",
        " * dictionary\n",
        " * object\n",
        "\n",
        "Problem: develop the data representation for a `student` in a student record system,\n",
        "where a `student` has a first and last name, student id, and date of birth"
      ],
      "metadata": {
        "collapsed": false,
        "id": "xgRdmNVrZuDj"
      }
    },
    {
      "cell_type": "code",
      "source": [
        "# Tuple\n",
        "\n",
        "# Dictionary\n",
        "\n",
        "# Object"
      ],
      "metadata": {
        "id": "Ai9qb3Bolw4h"
      },
      "execution_count": null,
      "outputs": []
    },
    {
      "cell_type": "code",
      "execution_count": 2,
      "outputs": [
        {
          "output_type": "execute_result",
          "data": {
            "text/plain": [
              "True"
            ]
          },
          "metadata": {},
          "execution_count": 2
        }
      ],
      "source": [
        "ideal = '(a + d[i] / (a-b) + f{\"data\"})'\n",
        "\n",
        "\n",
        "s = \"(a - (3 / 6) * (4 + 7))\"\n",
        "\n",
        "\n",
        "\n",
        "def does_it_match(string):\n",
        "  open_count = 0\n",
        "  for achar in string:\n",
        "    if achar == '(':\n",
        "      open_count +=1\n",
        "    if achar == ')':\n",
        "      open_count -=1\n",
        "    if open_count < 0:\n",
        "      return False\n",
        "  if open_count == 0:\n",
        "    return True\n",
        "  else:\n",
        "    return False\n",
        "\n",
        "does_it_match(s)\n"
      ],
      "metadata": {
        "pycharm": {
          "name": "#%%\n"
        },
        "id": "ieDl2d-pZuDk",
        "outputId": "fa5a228d-7cfc-4f87-c29b-6e33ef9957a3",
        "colab": {
          "base_uri": "https://localhost:8080/"
        }
      }
    }
  ]
}